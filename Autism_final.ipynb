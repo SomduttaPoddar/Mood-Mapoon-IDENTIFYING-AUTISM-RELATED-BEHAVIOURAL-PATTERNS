{
  "cells": [
    {
      "cell_type": "code",
      "execution_count": null,
      "metadata": {
        "id": "2MdESyKfZ1j1"
      },
      "outputs": [],
      "source": [
        "import numpy as np\n",
        "import cv2\n",
        "import streamlit as st\n",
        "from tensorflow import keras\n",
        "from keras.models import model_from_json, load_model # Import load_model here\n",
        "from keras.preprocessing.image import img_to_array\n",
        "from streamlit_webrtc import webrtc_streamer, VideoTransformerBase, RTCConfiguration, VideoProcessorBase, WebRtcMode\n",
        "import time\n",
        "import tensorflow as tf\n",
        "from tensorflow.keras.models import load_model\n",
        "from tensorflow.keras.preprocessing.image import img_to_array\n",
        "from tensorflow.keras.preprocessing.image import load_img\n",
        "\n",
        "\n",
        "\n",
        "RTC_CONFIGURATION = RTCConfiguration({\"iceServers\": [{\"urls\": [\"stun:stun.l.google.com:19302\"]}]})\n",
        "emotion_model=load_model('/content/fer2013_mini_XCEPTION.102-0.66.hdf5')\n",
        "emotion_dict = {0: 'Angry', 1: 'Disgust', 2: 'Fear', 3: 'Happy', 4: 'Sad', 5: 'Surprise', 6: 'Neutral'}\n",
        "\n",
        "\n",
        "def emotion_analysis(VideoTransformerBase):\n",
        "\n",
        "  # Try using a relative path or an absolute path that works in your environment\n",
        "  # Also, ensure the file 'haarcascade_frontalface_default.xml' exists at that location.\n",
        "  face_cascade_path = \"haarcascade_frontalface_default.xml\"  # Update with the correct path\n",
        "  face_cap = cv2.CascadeClassifier(face_cascade_path)\n",
        "\n",
        "  if face_cap.empty():\n",
        "      print(\"Error loading face detection model. Check the file path.\")\n",
        "      return\n",
        "\n",
        "  video_cap = cv2.VideoCapture(0) # Define video_cap in the global scope\n",
        "\n",
        "\n",
        "  if not video_cap.isOpened():\n",
        "      print(\"Error opening video stream or file\")\n",
        "      exit()\n",
        "\n",
        "\n",
        "\n",
        "\n",
        "\n",
        "  start_time=time.time() # Correct indentation here\n",
        "  watch_duration=60\n",
        "  smile_detected=False\n",
        "\n",
        "  while time.time()-start_time<watch_duration:\n",
        "      ret, video_data = video_cap.read()\n",
        "\n",
        "      # Check if a frame was successfully read\n",
        "      if not ret:\n",
        "          print(\"Can't receive frame (stream end?). Exiting ...\")\n",
        "          break\n",
        "\n",
        "      col = cv2.cvtColor(video_data, cv2.COLOR_BGR2GRAY)\n",
        "      faces = face_cap.detectMultiScale(\n",
        "          col,\n",
        "          scaleFactor=1.1,\n",
        "          minNeighbors=5,\n",
        "          minSize=(30, 30),\n",
        "          flags=cv2.CASCADE_SCALE_IMAGE\n",
        "      )\n",
        "\n",
        "      for (x, y, w, h) in faces:\n",
        "          gray = col[y:y + h, x:x + w]\n",
        "          gray = cv2.resize(gray, (48, 48))\n",
        "          gray = gray.astype('float') / 255.0\n",
        "          gray = img_to_array(gray)\n",
        "          gray = np.expand_dims(gray, axis=0)\n",
        "          cv2.rectangle(video_data, (x, y), (x + w, y + h), (0, 255, 0), 2)\n",
        "\n",
        "          #  emotion prediction logic here using the 'gray' image\n",
        "          prediction=emotion_model.predict(gray)\n",
        "          label=np.argmax(prediction)\n",
        "          emotion=emotion_dict[label]\n",
        "          cv2.putText(video_data,label,(x,y),cv2.FONT_HERSHEY_SIMPLEX,1,(0,255,0),2)\n",
        "          print(label)\n",
        "\n",
        "          if emotion=='Happy':\n",
        "            smile_detected=True\n",
        "            break\n",
        "          else:\n",
        "            smile_detected=False\n",
        "\n",
        "\n",
        "\n",
        "\n",
        "      # Use cv2_imshow from google.colab.patches instead of cv2.imshow\n",
        "      cv2.imshow(\"ASD\",video_data)\n",
        "      if cv2.waitKey(10) == ord(\"a\"):\n",
        "        break\n",
        "\n",
        "      if time.time()-start_time>watch_duration:\n",
        "        break\n",
        "\n",
        "  video_cap.release() # Now you can access video_cap here\n",
        "  cv2.destroyAllWindows()\n",
        "\n",
        "  if smile_detected:\n",
        "    print(\"Smile Detected:No Autism\")\n",
        "  else:\n",
        "    print(\"No Smile Detected:Here it is autism child\")\n",
        "\n",
        "emotion_analysis(None)\n",
        "\n",
        "\n",
        "\n",
        "  # Dictionary of videos\n",
        "videos = {\n",
        "    \"Cats\": \"https://www.youtube.com/embed/J---aiyznGQ\",\n",
        "    \"Dogs\": \"https://www.youtube.com/embed/3GRSbr0EYYU\",\n",
        "    \"Babies\": \"https://www.youtube.com/embed/L5IAQ9XwK5Y\",\n",
        "    \"Pranks\": \"https://www.youtube.com/embed/CIaWoBlP5yU\",\n",
        "    \"Skits\": \"https://www.youtube.com/embed/9lG5oSDlnLM\"\n",
        "}\n",
        "\n",
        "  #choices=st.sidebar.selectbox(\"Select a video\", list(videos.keys()))\n",
        " # video_url = videos[choices]\n",
        "  #st.video(video_url)\n",
        "   # Function to redirect to a different page\n",
        "def redirect(url):\n",
        "  st.session_state.page = url\n",
        "\n",
        "# Function for the registration page\n",
        "def registration_page():\n",
        "\n",
        "  st.title(\"Registration\")\n",
        "  st.header(\"Create Your Account\")\n",
        "  username = st.text_input(\"Username\")\n",
        "  email = st.text_input(\"Email\")\n",
        "  password = st.text_input(\"Password\", type=\"password\")\n",
        "  if st.button(\"Submit\"):\n",
        "    st.session_state.username = username\n",
        "    st.session_state.email = email\n",
        "    st.session_state.password = password\n",
        "    redirect(\"login\")\n",
        "\n",
        "# Function for the login page\n",
        "def login_page():\n",
        "  st.title(\"Login\")\n",
        "  st.header(\"Login to Your Account\")\n",
        "  username = st.text_input(\"Username\")\n",
        "  password = st.text_input(\"Password\", type=\"password\")\n",
        "  if st.button(\"Submit\"):\n",
        "    if username == st.session_state.get('username') and password == st.session_state.get('password'):\n",
        "      redirect(\"main\")\n",
        "    else:\n",
        "      st.error(\"Invalid username or password\")\n",
        "\n",
        "\n",
        "def main_page():\n",
        "    st.title(\"Welcome to MoodMapoon\")\n",
        "    st.subheader(\"Entertainment encompasses a wide range of activities and experiences that bring joy, relaxation, and amusement to people. It includes movies, music, sports, video games, theater, and more. Entertainment serves as an escape from daily life, fostering creativity, cultural exchange, and emotional connection among individuals and communities.\")\n",
        "    st.write(\"Okay, Let's come with us\")\n",
        "\n",
        "    st.radio(\"What is the capital of India?\", [\"Mumbai\", \"New Delhi\", \"Kolkata\"])\n",
        "    video_choice = st.selectbox(\"Select a video to watch\", list(videos.keys()))\n",
        "    st.video(videos[video_choice])\n",
        "    st.write(\"Click on start to use webcam and detect your face emotion\")\n",
        "    webrtc_streamer(key=\"example\",mode=WebRtcMode.SENDRECV,rtc_configuration=RTC_CONFIGURATION,video_processor_factory=emotion_analysis)\n",
        "\n",
        "\n",
        "# Main function to navigate between pages\n",
        "def main():\n",
        "    if \"page\" not in st.session_state:\n",
        "        st.session_state.page = \"registration\"\n",
        "\n",
        "    if st.session_state.page == \"registration\":\n",
        "        registration_page()\n",
        "    elif st.session_state.page == \"login\":\n",
        "        login_page()\n",
        "    elif st.session_state.page == \"main\":\n",
        "        main_page()\n",
        "\n",
        "if __name__ == \"__main__\":\n",
        "    main()\n",
        "\n",
        "\n",
        "\n",
        "\n",
        "\n"
      ]
    },
    {
      "cell_type": "code",
      "execution_count": null,
      "metadata": {
        "id": "2AuNQAh3faWj",
        "collapsed": true
      },
      "outputs": [],
      "source": [
        "!pip install streamlit\n",
        "!pip install streamlit_webrtc"
      ]
    },
    {
      "cell_type": "code",
      "execution_count": null,
      "metadata": {
        "id": "7lKjRMdta0JC"
      },
      "outputs": [],
      "source": [
        "\n",
        "!pip install streamlit pyngrok\n"
      ]
    },
    {
      "cell_type": "code",
      "execution_count": null,
      "metadata": {
        "colab": {
          "base_uri": "https://localhost:8080/"
        },
        "collapsed": true,
        "id": "brMC6zBoa0GS",
        "outputId": "9fc11cac-08d8-4645-c1f7-bc9163cb9622"
      },
      "outputs": [
        {
          "name": "stdout",
          "output_type": "stream",
          "text": [
            "NgrokTunnel: \"https://4ebb-35-227-163-20.ngrok-free.app\" -> \"http://localhost:8501\"\n"
          ]
        }
      ],
      "source": [
        "from pyngrok import ngrok\n",
        "\n",
        "# Define tunnel options\n",
        "tunnel_config = {\n",
        "    \"addr\": \"8501\",  # Streamlit's default port\n",
        "    \"proto\": \"http\"  # Specify the protocol\n",
        "}\n",
        "\n",
        "public_url = ngrok.connect(**tunnel_config)  # Pass options as keyword arguments\n",
        "print(public_url)"
      ]
    },
    {
      "cell_type": "code",
      "execution_count": null,
      "metadata": {
        "colab": {
          "base_uri": "https://localhost:8080/"
        },
        "id": "FU74uOJya0AK",
        "outputId": "28ee20fb-6064-4ac6-fdd3-b90607e8c49d"
      },
      "outputs": [
        {
          "name": "stdout",
          "output_type": "stream",
          "text": [
            "/bin/bash: -c: line 1: syntax error near unexpected token `newline'\n",
            "/bin/bash: -c: line 1: `ngrok authtoken <2jFXcf3tvTOtuBaDwkEYNvsGYAj_4YYuSXidEQtZomgShxSgC>'\n"
          ]
        }
      ],
      "source": [
        "!ngrok authtoken <2jFXcf3tvTOtuBaDwkEYNvsGYAj_4YYuSXidEQtZomgShxSgC>"
      ]
    },
    {
      "cell_type": "code",
      "execution_count": null,
      "metadata": {
        "colab": {
          "base_uri": "https://localhost:8080/"
        },
        "id": "9Vb4fHOkaz9S",
        "outputId": "48f2580f-2477-47c3-a6c1-d74fb6a2416f"
      },
      "outputs": [
        {
          "name": "stdout",
          "output_type": "stream",
          "text": [
            "/bin/bash: -c: line 1: syntax error near unexpected token `newline'\n",
            "/bin/bash: -c: line 1: `ngrok authtoken <2jFXcf3tvTOtuBaDwkEYNvsGYAj_4YYuSXidEQtZomgShxSgC>'\n"
          ]
        }
      ],
      "source": [
        "!ngrok authtoken <2jFXcf3tvTOtuBaDwkEYNvsGYAj_4YYuSXidEQtZomgShxSgC>\n"
      ]
    },
    {
      "cell_type": "code",
      "execution_count": null,
      "metadata": {
        "colab": {
          "base_uri": "https://localhost:8080/"
        },
        "id": "UcYYHROcaz6K",
        "outputId": "d28bd81f-7a54-4a87-bedf-07ab70c3b5e1"
      },
      "outputs": [
        {
          "name": "stdout",
          "output_type": "stream",
          "text": [
            "Authtoken saved to configuration file: /root/.config/ngrok/ngrok.yml\n"
          ]
        }
      ],
      "source": [
        "!ngrok authtoken 2jFXcf3tvTOtuBaDwkEYNvsGYAj_4YYuSXidEQtZomgShxSgC"
      ]
    },
    {
      "cell_type": "code",
      "execution_count": null,
      "metadata": {
        "colab": {
          "base_uri": "https://localhost:8080/"
        },
        "id": "VNQGSLI-az3a",
        "outputId": "f2007066-f9b2-4bbd-9cd5-a4701a294ee1"
      },
      "outputs": [
        {
          "name": "stdout",
          "output_type": "stream",
          "text": [
            "NgrokTunnel: \"https://7c99-35-227-163-20.ngrok-free.app\" -> \"http://localhost:8501\"\n"
          ]
        }
      ],
      "source": []
    },
    {
      "cell_type": "code",
      "execution_count": null,
      "metadata": {
        "colab": {
          "background_save": true,
          "base_uri": "https://localhost:8080/"
        },
        "id": "xUjdLqufaz0s",
        "collapsed": true,
        "outputId": "5a6c2ef6-46f7-4b3f-d169-864c8d50208a"
      },
      "outputs": [
        {
          "name": "stdout",
          "output_type": "stream",
          "text": [
            "35.227.163.20\n",
            "\n",
            "Collecting usage statistics. To deactivate, set browser.gatherUsageStats to false.\n",
            "\u001b[0m\n",
            "\u001b[0m\n",
            "\u001b[34m\u001b[1m  You can now view your Streamlit app in your browser.\u001b[0m\n",
            "\u001b[0m\n",
            "\u001b[34m  Local URL: \u001b[0m\u001b[1mhttp://localhost:8501\u001b[0m\n",
            "\u001b[34m  Network URL: \u001b[0m\u001b[1mhttp://172.28.0.12:8501\u001b[0m\n",
            "\u001b[34m  External URL: \u001b[0m\u001b[1mhttp://35.227.163.20:8501\u001b[0m\n",
            "\u001b[0m\n",
            "\u001b[K\u001b[?25hnpx: installed 22 in 3.814s\n",
            "your url is: https://hip-coats-judge.loca.lt\n",
            "2024-07-14 19:19:50.406765: E external/local_xla/xla/stream_executor/cuda/cuda_dnn.cc:9261] Unable to register cuDNN factory: Attempting to register factory for plugin cuDNN when one has already been registered\n",
            "2024-07-14 19:19:50.406851: E external/local_xla/xla/stream_executor/cuda/cuda_fft.cc:607] Unable to register cuFFT factory: Attempting to register factory for plugin cuFFT when one has already been registered\n",
            "2024-07-14 19:19:50.412624: E external/local_xla/xla/stream_executor/cuda/cuda_blas.cc:1515] Unable to register cuBLAS factory: Attempting to register factory for plugin cuBLAS when one has already been registered\n",
            "2024-07-14 19:19:51.803921: W tensorflow/compiler/tf2tensorrt/utils/py_utils.cc:38] TF-TRT Warning: Could not find TensorRT\n",
            "2024-07-14 19:21:31.987 Uncaught app exception\n",
            "Traceback (most recent call last):\n",
            "  File \"/usr/local/lib/python3.10/dist-packages/streamlit/runtime/scriptrunner/script_runner.py\", line 589, in _run_script\n",
            "    exec(code, module.__dict__)\n",
            "  File \"/content/app.py\", line 82, in <module>\n",
            "    main()\n",
            "  File \"/content/app.py\", line 79, in main\n",
            "    main_page()\n",
            "  File \"/content/app.py\", line 66, in main_page\n",
            "    webrtc_streamer(key=\"example\",mode=WebRtcMode.SENDRECV,rtc_configuration=RTC_CONFIGURATION,video_processor_factory=emotion_analysis)\n",
            "NameError: name 'RTC_CONFIGURATION' is not defined\n",
            "2024-07-14 19:23:51.193 Uncaught app exception\n",
            "Traceback (most recent call last):\n",
            "  File \"/usr/local/lib/python3.10/dist-packages/streamlit/runtime/scriptrunner/script_runner.py\", line 589, in _run_script\n",
            "    exec(code, module.__dict__)\n",
            "  File \"/content/app.py\", line 82, in <module>\n",
            "    main()\n",
            "  File \"/content/app.py\", line 79, in main\n",
            "    main_page()\n",
            "  File \"/content/app.py\", line 66, in main_page\n",
            "    webrtc_streamer(key=\"example\",mode=WebRtcMode.SENDRECV,rtc_configuration=RTC_CONFIGURATION,video_processor_factory=emotion_analysis)\n",
            "NameError: name 'RTC_CONFIGURATION' is not defined\n",
            "2024-07-14 19:24:01.793 Uncaught app exception\n",
            "Traceback (most recent call last):\n",
            "  File \"/usr/local/lib/python3.10/dist-packages/streamlit/runtime/scriptrunner/script_runner.py\", line 589, in _run_script\n",
            "    exec(code, module.__dict__)\n",
            "  File \"/content/app.py\", line 82, in <module>\n",
            "    main()\n",
            "  File \"/content/app.py\", line 79, in main\n",
            "    main_page()\n",
            "  File \"/content/app.py\", line 66, in main_page\n",
            "    webrtc_streamer(key=\"example\",mode=WebRtcMode.SENDRECV,rtc_configuration=RTC_CONFIGURATION,video_processor_factory=emotion_analysis)\n",
            "NameError: name 'RTC_CONFIGURATION' is not defined\n",
            "2024-07-14 19:24:05.135 Uncaught app exception\n",
            "Traceback (most recent call last):\n",
            "  File \"/usr/local/lib/python3.10/dist-packages/streamlit/runtime/scriptrunner/script_runner.py\", line 589, in _run_script\n",
            "    exec(code, module.__dict__)\n",
            "  File \"/content/app.py\", line 82, in <module>\n",
            "    main()\n",
            "  File \"/content/app.py\", line 79, in main\n",
            "    main_page()\n",
            "  File \"/content/app.py\", line 66, in main_page\n",
            "    webrtc_streamer(key=\"example\",mode=WebRtcMode.SENDRECV,rtc_configuration=RTC_CONFIGURATION,video_processor_factory=emotion_analysis)\n",
            "NameError: name 'RTC_CONFIGURATION' is not defined\n",
            "2024-07-14 19:24:06.912 Uncaught app exception\n",
            "Traceback (most recent call last):\n",
            "  File \"/usr/local/lib/python3.10/dist-packages/streamlit/runtime/scriptrunner/script_runner.py\", line 589, in _run_script\n",
            "    exec(code, module.__dict__)\n",
            "  File \"/content/app.py\", line 82, in <module>\n",
            "    main()\n",
            "  File \"/content/app.py\", line 79, in main\n",
            "    main_page()\n",
            "  File \"/content/app.py\", line 66, in main_page\n",
            "    webrtc_streamer(key=\"example\",mode=WebRtcMode.SENDRECV,rtc_configuration=RTC_CONFIGURATION,video_processor_factory=emotion_analysis)\n",
            "NameError: name 'RTC_CONFIGURATION' is not defined\n",
            "2024-07-14 19:24:35.786 Uncaught app exception\n",
            "Traceback (most recent call last):\n",
            "  File \"/usr/local/lib/python3.10/dist-packages/streamlit/runtime/scriptrunner/script_runner.py\", line 589, in _run_script\n",
            "    exec(code, module.__dict__)\n",
            "  File \"/content/app.py\", line 82, in <module>\n",
            "    main()\n",
            "  File \"/content/app.py\", line 79, in main\n",
            "    main_page()\n",
            "  File \"/content/app.py\", line 66, in main_page\n",
            "    webrtc_streamer(key=\"example\",mode=WebRtcMode.SENDRECV,rtc_configuration=RTC_CONFIGURATION,video_processor_factory=emotion_analysis)\n",
            "NameError: name 'RTC_CONFIGURATION' is not defined\n",
            "2024-07-14 19:27:49.093 Uncaught app exception\n",
            "Traceback (most recent call last):\n",
            "  File \"/usr/local/lib/python3.10/dist-packages/streamlit/runtime/scriptrunner/script_runner.py\", line 589, in _run_script\n",
            "    exec(code, module.__dict__)\n",
            "  File \"/content/app.py\", line 82, in <module>\n",
            "    main()\n",
            "  File \"/content/app.py\", line 79, in main\n",
            "    main_page()\n",
            "  File \"/content/app.py\", line 66, in main_page\n",
            "    webrtc_streamer(key=\"example\",mode=WebRtcMode.SENDRECV,rtc_configuration=RTC_CONFIGURATION,video_processor_factory=emotion_analysis)\n",
            "NameError: name 'RTC_CONFIGURATION' is not defined\n",
            "2024-07-14 19:28:10.903 Uncaught app exception\n",
            "Traceback (most recent call last):\n",
            "  File \"/usr/local/lib/python3.10/dist-packages/streamlit/runtime/scriptrunner/script_runner.py\", line 589, in _run_script\n",
            "    exec(code, module.__dict__)\n",
            "  File \"/content/app.py\", line 82, in <module>\n",
            "    main()\n",
            "  File \"/content/app.py\", line 79, in main\n",
            "    main_page()\n",
            "  File \"/content/app.py\", line 66, in main_page\n",
            "    webrtc_streamer(key=\"example\",mode=WebRtcMode.SENDRECV,rtc_configuration=RTC_CONFIGURATION,video_processor_factory=emotion_analysis)\n",
            "NameError: name 'RTC_CONFIGURATION' is not defined\n",
            "2024-07-14 19:45:23.224 Uncaught app exception\n",
            "Traceback (most recent call last):\n",
            "  File \"/usr/local/lib/python3.10/dist-packages/streamlit/runtime/scriptrunner/script_runner.py\", line 589, in _run_script\n",
            "    exec(code, module.__dict__)\n",
            "  File \"/content/app.py\", line 83, in <module>\n",
            "    main()\n",
            "  File \"/content/app.py\", line 80, in main\n",
            "    main_page()\n",
            "  File \"/content/app.py\", line 67, in main_page\n",
            "    webrtc_streamer(key=\"example\",mode=WebRtcMode.SENDRECV,rtc_configuration=RTC_CONFIGURATION,video_processor_factory=emotion_analysis)\n",
            "NameError: name 'emotion_analysis' is not defined\n",
            "2024-07-14 19:48:21.357 Uncaught app exception\n",
            "Traceback (most recent call last):\n",
            "  File \"/usr/local/lib/python3.10/dist-packages/streamlit/runtime/scriptrunner/script_runner.py\", line 589, in _run_script\n",
            "    exec(code, module.__dict__)\n",
            "  File \"/content/app.py\", line 83, in <module>\n",
            "    main()\n",
            "  File \"/content/app.py\", line 80, in main\n",
            "    main_page()\n",
            "  File \"/content/app.py\", line 67, in main_page\n",
            "    webrtc_streamer(key=\"example\",mode=WebRtcMode.SENDRECV,rtc_configuration=RTC_CONFIGURATION,video_processor_factory=emotion_analysis)\n",
            "NameError: name 'emotion_analysis' is not defined\n",
            "[ERROR:0@3318.305] global persistence.cpp:512 open Can't open file: 'haarcascade_frontalface_default.xml' in read mode\n",
            "Error loading face detection model. Check the file path.\n",
            "[ERROR:1@3328.428] global persistence.cpp:512 open Can't open file: 'haarcascade_frontalface_default.xml' in read mode\n",
            "Error loading face detection model. Check the file path.\n",
            "[ERROR:2@3335.572] global persistence.cpp:512 open Can't open file: 'haarcascade_frontalface_default.xml' in read mode\n",
            "Error loading face detection model. Check the file path.\n",
            "[ERROR:3@3337.069] global persistence.cpp:512 open Can't open file: 'haarcascade_frontalface_default.xml' in read mode\n",
            "Error loading face detection model. Check the file path.\n",
            "[ERROR:4@3337.266] global persistence.cpp:512 open Can't open file: 'haarcascade_frontalface_default.xml' in read mode\n",
            "Error loading face detection model. Check the file path.\n",
            "WARNING:tensorflow:Error in loading the saved optimizer state. As a result, your model is starting with a freshly initialized optimizer.\n",
            "[ERROR:5@3995.130] global persistence.cpp:512 open Can't open file: 'haarcascade_frontalface_default.xml' in read mode\n",
            "Error loading face detection model. Check the file path.\n",
            "WARNING:tensorflow:Error in loading the saved optimizer state. As a result, your model is starting with a freshly initialized optimizer.\n",
            "[ERROR:6@5862.096] global persistence.cpp:512 open Can't open file: 'haarcascade_frontalface_default.xml' in read mode\n",
            "Error loading face detection model. Check the file path.\n"
          ]
        }
      ],
      "source": [
        "! pip install streamlit -q\n",
        "!wget -q -O - ipv4.icanhazip.com\n",
        "! streamlit run /content/app.py & npx localtunnel --port 8501"
      ]
    },
    {
      "cell_type": "code",
      "execution_count": null,
      "metadata": {
        "id": "2Obq6jK4azx6"
      },
      "outputs": [],
      "source": []
    },
    {
      "cell_type": "code",
      "execution_count": null,
      "metadata": {
        "id": "SaYC2VcMazu8"
      },
      "outputs": [],
      "source": []
    },
    {
      "cell_type": "code",
      "execution_count": null,
      "metadata": {
        "id": "PzkESm8DazsE"
      },
      "outputs": [],
      "source": []
    },
    {
      "cell_type": "code",
      "execution_count": null,
      "metadata": {
        "id": "gwsLJbAAazpO"
      },
      "outputs": [],
      "source": []
    },
    {
      "cell_type": "code",
      "execution_count": null,
      "metadata": {
        "id": "5VaVN8LBazmW"
      },
      "outputs": [],
      "source": []
    },
    {
      "cell_type": "code",
      "execution_count": null,
      "metadata": {
        "id": "9JTvxxU8azji"
      },
      "outputs": [],
      "source": []
    },
    {
      "cell_type": "code",
      "execution_count": null,
      "metadata": {
        "id": "XGJqjfkoazgb"
      },
      "outputs": [],
      "source": []
    },
    {
      "cell_type": "code",
      "execution_count": null,
      "metadata": {
        "id": "WWfpbyaaazeK"
      },
      "outputs": [],
      "source": []
    },
    {
      "cell_type": "code",
      "execution_count": null,
      "metadata": {
        "id": "qdvf1ASZazbD"
      },
      "outputs": [],
      "source": []
    },
    {
      "cell_type": "code",
      "execution_count": null,
      "metadata": {
        "id": "G65VlkjYazYj"
      },
      "outputs": [],
      "source": []
    },
    {
      "cell_type": "code",
      "execution_count": null,
      "metadata": {
        "id": "7AHMMJnGazVr"
      },
      "outputs": [],
      "source": []
    },
    {
      "cell_type": "code",
      "execution_count": null,
      "metadata": {
        "id": "GBMAp63hazS0"
      },
      "outputs": [],
      "source": []
    },
    {
      "cell_type": "code",
      "execution_count": null,
      "metadata": {
        "id": "CwShmdasazP8"
      },
      "outputs": [],
      "source": []
    },
    {
      "cell_type": "code",
      "execution_count": null,
      "metadata": {
        "id": "CG-ZbwMaazM6"
      },
      "outputs": [],
      "source": []
    },
    {
      "cell_type": "code",
      "execution_count": null,
      "metadata": {
        "id": "HcDqXTnNazJ9"
      },
      "outputs": [],
      "source": []
    },
    {
      "cell_type": "code",
      "execution_count": null,
      "metadata": {
        "id": "ewV9WbDeazHD"
      },
      "outputs": [],
      "source": []
    },
    {
      "cell_type": "code",
      "execution_count": null,
      "metadata": {
        "id": "2Yy6f5dQazEU"
      },
      "outputs": [],
      "source": []
    },
    {
      "cell_type": "code",
      "execution_count": null,
      "metadata": {
        "id": "XIt-wzc1azBq"
      },
      "outputs": [],
      "source": []
    },
    {
      "cell_type": "code",
      "execution_count": null,
      "metadata": {
        "id": "JfduBVz4ay_C"
      },
      "outputs": [],
      "source": []
    },
    {
      "cell_type": "code",
      "execution_count": null,
      "metadata": {
        "id": "VFyZToaCay8K"
      },
      "outputs": [],
      "source": []
    },
    {
      "cell_type": "code",
      "execution_count": null,
      "metadata": {
        "id": "zGpDQ_-zay5q"
      },
      "outputs": [],
      "source": []
    },
    {
      "cell_type": "code",
      "execution_count": null,
      "metadata": {
        "id": "zkHMo87Zay3M"
      },
      "outputs": [],
      "source": []
    },
    {
      "cell_type": "code",
      "execution_count": null,
      "metadata": {
        "id": "pks-MGWOay0q"
      },
      "outputs": [],
      "source": []
    },
    {
      "cell_type": "code",
      "execution_count": null,
      "metadata": {
        "id": "hPjbtwP-ayxy"
      },
      "outputs": [],
      "source": []
    },
    {
      "cell_type": "code",
      "execution_count": null,
      "metadata": {
        "id": "WghxtTC9ayva"
      },
      "outputs": [],
      "source": []
    },
    {
      "cell_type": "code",
      "execution_count": null,
      "metadata": {
        "id": "40xlfw9_aysy"
      },
      "outputs": [],
      "source": []
    },
    {
      "cell_type": "code",
      "execution_count": null,
      "metadata": {
        "id": "AbYGNkqkayqM"
      },
      "outputs": [],
      "source": []
    },
    {
      "cell_type": "code",
      "execution_count": null,
      "metadata": {
        "id": "FrsYofKCayn0"
      },
      "outputs": [],
      "source": []
    },
    {
      "cell_type": "code",
      "execution_count": null,
      "metadata": {
        "id": "bMhhxlbkaylC"
      },
      "outputs": [],
      "source": []
    },
    {
      "cell_type": "code",
      "execution_count": null,
      "metadata": {
        "id": "YSO9etjIayiS"
      },
      "outputs": [],
      "source": []
    },
    {
      "cell_type": "code",
      "execution_count": null,
      "metadata": {
        "id": "6ctxlkfvayf6"
      },
      "outputs": [],
      "source": []
    },
    {
      "cell_type": "code",
      "execution_count": null,
      "metadata": {
        "id": "ZZ2uGMj5aydM"
      },
      "outputs": [],
      "source": []
    },
    {
      "cell_type": "code",
      "execution_count": null,
      "metadata": {
        "id": "K4zs4_OBayZS"
      },
      "outputs": [],
      "source": []
    }
  ],
  "metadata": {
    "colab": {
      "provenance": [],
      "toc_visible": true
    },
    "kernelspec": {
      "display_name": "Python 3",
      "name": "python3"
    },
    "language_info": {
      "name": "python"
    }
  },
  "nbformat": 4,
  "nbformat_minor": 0
}